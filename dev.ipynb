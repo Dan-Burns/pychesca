{
 "cells": [
  {
   "cell_type": "code",
   "execution_count": 1,
   "metadata": {},
   "outputs": [],
   "source": [
    "import numpy as np\n",
    "import pandas as pd \n",
    "from sklearn.cluster import AgglomerativeClustering as AG\n",
    "from scipy.cluster.hierarchy import dendrogram \n",
    "import scipy\n",
    "import os\n",
    "import sys"
   ]
  },
  {
   "cell_type": "code",
   "execution_count": 2,
   "metadata": {},
   "outputs": [],
   "source": [
    "data_name = 'CHNH'\n",
    "chnh_shifts = pd.read_excel('test/rawData_NHshiftonly.xlsx',sheet_name='CH+NH')"
   ]
  },
  {
   "cell_type": "code",
   "execution_count": null,
   "metadata": {},
   "outputs": [],
   "source": [
    "# need a single spreadsheet file with columns labeled\n",
    "# by state/mutation/ligand etc\n",
    "# resids for index\n",
    "# should take csv, tsv, xlsx \n",
    "# ?need a means for including resonances from different\n",
    "# types of experiments?"
   ]
  },
  {
   "cell_type": "code",
   "execution_count": 3,
   "metadata": {},
   "outputs": [],
   "source": [
    "muts = ['H189G', 'H189N', 'H189Q']\n",
    "new_ix = chnh_shifts['Resin'].values.round(1)"
   ]
  },
  {
   "cell_type": "code",
   "execution_count": 4,
   "metadata": {},
   "outputs": [],
   "source": [
    "df = pd.DataFrame(chnh_shifts[muts].values,columns=muts,index=new_ix.astype(str).tolist())"
   ]
  },
  {
   "cell_type": "code",
   "execution_count": 5,
   "metadata": {},
   "outputs": [
    {
     "data": {
      "text/html": [
       "<div>\n",
       "<style scoped>\n",
       "    .dataframe tbody tr th:only-of-type {\n",
       "        vertical-align: middle;\n",
       "    }\n",
       "\n",
       "    .dataframe tbody tr th {\n",
       "        vertical-align: top;\n",
       "    }\n",
       "\n",
       "    .dataframe thead th {\n",
       "        text-align: right;\n",
       "    }\n",
       "</style>\n",
       "<table border=\"1\" class=\"dataframe\">\n",
       "  <thead>\n",
       "    <tr style=\"text-align: right;\">\n",
       "      <th></th>\n",
       "      <th>H189G</th>\n",
       "      <th>H189N</th>\n",
       "      <th>H189Q</th>\n",
       "    </tr>\n",
       "  </thead>\n",
       "  <tbody>\n",
       "    <tr>\n",
       "      <th>4.0</th>\n",
       "      <td>30.31560</td>\n",
       "      <td>30.34900</td>\n",
       "      <td>30.30880</td>\n",
       "    </tr>\n",
       "    <tr>\n",
       "      <th>5.0</th>\n",
       "      <td>35.75680</td>\n",
       "      <td>35.72340</td>\n",
       "      <td>35.72340</td>\n",
       "    </tr>\n",
       "    <tr>\n",
       "      <th>6.0</th>\n",
       "      <td>34.26820</td>\n",
       "      <td>34.24840</td>\n",
       "      <td>34.29060</td>\n",
       "    </tr>\n",
       "    <tr>\n",
       "      <th>7.0</th>\n",
       "      <td>33.91880</td>\n",
       "      <td>33.91140</td>\n",
       "      <td>33.92700</td>\n",
       "    </tr>\n",
       "    <tr>\n",
       "      <th>8.0</th>\n",
       "      <td>29.83200</td>\n",
       "      <td>29.76140</td>\n",
       "      <td>29.68660</td>\n",
       "    </tr>\n",
       "    <tr>\n",
       "      <th>...</th>\n",
       "      <td>...</td>\n",
       "      <td>...</td>\n",
       "      <td>...</td>\n",
       "    </tr>\n",
       "    <tr>\n",
       "      <th>561.6</th>\n",
       "      <td>7.32225</td>\n",
       "      <td>7.33150</td>\n",
       "      <td>7.34325</td>\n",
       "    </tr>\n",
       "    <tr>\n",
       "      <th>564.1</th>\n",
       "      <td>6.76250</td>\n",
       "      <td>6.82200</td>\n",
       "      <td>6.84600</td>\n",
       "    </tr>\n",
       "    <tr>\n",
       "      <th>565.1</th>\n",
       "      <td>6.34125</td>\n",
       "      <td>6.34425</td>\n",
       "      <td>6.34425</td>\n",
       "    </tr>\n",
       "    <tr>\n",
       "      <th>569.1</th>\n",
       "      <td>4.34500</td>\n",
       "      <td>4.34450</td>\n",
       "      <td>4.35775</td>\n",
       "    </tr>\n",
       "    <tr>\n",
       "      <th>574.1</th>\n",
       "      <td>4.01475</td>\n",
       "      <td>4.01075</td>\n",
       "      <td>4.02000</td>\n",
       "    </tr>\n",
       "  </tbody>\n",
       "</table>\n",
       "<p>264 rows × 3 columns</p>\n",
       "</div>"
      ],
      "text/plain": [
       "          H189G     H189N     H189Q\n",
       "4.0    30.31560  30.34900  30.30880\n",
       "5.0    35.75680  35.72340  35.72340\n",
       "6.0    34.26820  34.24840  34.29060\n",
       "7.0    33.91880  33.91140  33.92700\n",
       "8.0    29.83200  29.76140  29.68660\n",
       "...         ...       ...       ...\n",
       "561.6   7.32225   7.33150   7.34325\n",
       "564.1   6.76250   6.82200   6.84600\n",
       "565.1   6.34125   6.34425   6.34425\n",
       "569.1   4.34500   4.34450   4.35775\n",
       "574.1   4.01475   4.01075   4.02000\n",
       "\n",
       "[264 rows x 3 columns]"
      ]
     },
     "execution_count": 5,
     "metadata": {},
     "output_type": "execute_result"
    }
   ],
   "source": [
    "df"
   ]
  },
  {
   "cell_type": "code",
   "execution_count": null,
   "metadata": {},
   "outputs": [],
   "source": []
  }
 ],
 "metadata": {
  "kernelspec": {
   "display_name": "mda2",
   "language": "python",
   "name": "python3"
  },
  "language_info": {
   "codemirror_mode": {
    "name": "ipython",
    "version": 3
   },
   "file_extension": ".py",
   "mimetype": "text/x-python",
   "name": "python",
   "nbconvert_exporter": "python",
   "pygments_lexer": "ipython3",
   "version": "3.10.5"
  }
 },
 "nbformat": 4,
 "nbformat_minor": 2
}
